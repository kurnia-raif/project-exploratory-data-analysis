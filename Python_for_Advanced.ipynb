{
 "cells": [
  {
   "cell_type": "markdown",
   "id": "6cff13b4",
   "metadata": {},
   "source": [
    "## Problem 1 :\n",
    "https://leetcode.com/problems/reverse-integer/"
   ]
  },
  {
   "cell_type": "markdown",
   "id": "499324a9",
   "metadata": {},
   "source": [
    "# Step jawaban :\n",
    "### 1. Uraian Definisi Masalah\n",
    "\n",
    "   - Input: Diberikan sebuah integer bertanda (signed integer) 32-bit x, yang bisa bernilai positif atau negatif.\n",
    "   - Output: Integer yang merupakan hasil pembalikan digit dari x. Jika hasil pembalikan digit tersebut menyebabkan nilai menjadi di luar jangkauan integer 32-bit yang valid, yaitu [-2^31, 2^31 - 1], maka kembalikan 0.\n",
    "   - Keterbatasan: Tidak boleh menggunakan penyimpanan integer 64-bit, baik yang bertanda (signed) maupun tidak bertanda (unsigned).\n",
    "   \n",
    "### 2. Ide Penyelesaian\n",
    "\n",
    "  -  Ambil Tanda Integer: Pertama, periksa apakah x adalah bilangan negatif atau positif. Simpan informasi ini untuk nanti.\n",
    "  -  Balikkan Digit: Abaikan tanda sementara dan balikkan digit-digit angka dalam x.\n",
    "  -  Periksa Overflow: Setelah membalikkan angka, periksa apakah hasilnya berada dalam batasan integer 32-bit. Jika tidak, kembalikan 0.\n",
    "  -  Kembalikan Tanda: Jika hasil pembalikan masih dalam batas, kembalikan nilai tersebut dengan menambahkan kembali tanda aslinya.\n",
    "  \n",
    "### 3. Pseudocode\n",
    "\n",
    "```\n",
    "Mulai\n",
    "  Inisialisasi tanda: jika x kurang dari 0, maka sign = -1, jika tidak sign = 1\n",
    "  Ubah nilai x menjadi nilai absolut (hilangkan tanda negatif jika ada)\n",
    "  Inisialisasi variabel reversed_x dengan nilai 0\n",
    "\n",
    "  Selama nilai x tidak sama dengan 0:\n",
    "    Ambil digit terakhir dari x dengan cara x modulus 10, simpan hasilnya sebagai pop\n",
    "    Buang digit terakhir dari x dengan membagi x dengan 10 dan ambil hasil bagi bulatnya\n",
    "    Perbarui reversed_x dengan mengalikan reversed_x dengan 10 lalu tambahkan pop ke reversed_x\n",
    "\n",
    "  Jika reversed_x melebihi batas integer 32-bit (lebih besar dari 2^31 - 1):\n",
    "    Kembalikan nilai 0 sebagai hasil\n",
    "\n",
    "  Kalikan reversed_x dengan tanda yang disimpan di awal (sign)\n",
    "  Kembalikan nilai reversed_x sebagai hasil akhir\n",
    "\n",
    "Selesai\n",
    "```\n",
    "\n",
    "### 4. Contoh Alur Eksekusi\n",
    "\n",
    "    Misalkan x = -123:\n",
    "        Langkah 1: sign = -1 (karena x < 0)\n",
    "        Langkah 2:\n",
    "            x = 123 (setelah abs(x))\n",
    "            Iterasi 1: pop = 3, x = 12, reversed_x = 3\n",
    "            Iterasi 2: pop = 2, x = 1, reversed_x = 32\n",
    "            Iterasi 3: pop = 1, x = 0, reversed_x = 321\n",
    "        Langkah 3: Tidak terjadi overflow karena 321 lebih kecil dari 2^31 - 1.\n",
    "        Langkah 4: return -1 * 321 = -321\n",
    "\n",
    "Fungsi ini melakukan pembalikan angka dengan memastikan hasil akhir sesuai dengan batasan integer 32-bit, dan mempertahankan tanda asli dari angka yang diberikan."
   ]
  },
  {
   "cell_type": "code",
   "execution_count": 2,
   "id": "0221e110",
   "metadata": {},
   "outputs": [
    {
     "name": "stdout",
     "output_type": "stream",
     "text": [
      "1\n"
     ]
    }
   ],
   "source": [
    "# 1. Ambil Tanda dari x\n",
    "x = 321 # assign nilai x\n",
    "sign = -1 if x < 0 else 1\n",
    "print(sign)"
   ]
  },
  {
   "cell_type": "markdown",
   "id": "de4549aa",
   "metadata": {},
   "source": [
    "#### Penjelasan:\n",
    "\n",
    "  -  Fungsi pertama-tama memeriksa apakah x bernilai negatif atau positif.\n",
    "  -  Jika x negatif (x < 0), maka sign diinisialisasi dengan -1, menandakan bahwa hasil akhirnya harus negatif.\n",
    "  -  Jika x positif, sign diinisialisasi dengan 1, menandakan bahwa hasilnya akan tetap positif."
   ]
  },
  {
   "cell_type": "code",
   "execution_count": 3,
   "id": "d9cede73",
   "metadata": {},
   "outputs": [
    {
     "name": "stdout",
     "output_type": "stream",
     "text": [
      "3\n"
     ]
    }
   ],
   "source": [
    "print(3 % 10)\n",
    "# 10 * 0 = 0\n",
    "# 3 - 0 = 3"
   ]
  },
  {
   "cell_type": "code",
   "execution_count": 5,
   "id": "e8db83a2",
   "metadata": {},
   "outputs": [
    {
     "name": "stdout",
     "output_type": "stream",
     "text": [
      "0.3\n",
      "0\n"
     ]
    }
   ],
   "source": [
    "print(3/10)\n",
    "print(3 // 10)"
   ]
  },
  {
   "cell_type": "code",
   "execution_count": 16,
   "id": "5c823c58",
   "metadata": {},
   "outputs": [],
   "source": [
    "def reverse_number(number):\n",
    "    reversed_number = 0\n",
    "    while number > 0:\n",
    "        digit = number % 10\n",
    "        print(digit)\n",
    "        reversed_number = reversed_number * 10 + digit\n",
    "        print(reversed_number)\n",
    "        number //= 10\n",
    "        print(number)\n",
    "    return reversed_number"
   ]
  },
  {
   "cell_type": "code",
   "execution_count": 18,
   "id": "0d253a56",
   "metadata": {},
   "outputs": [
    {
     "data": {
      "text/plain": [
       "0"
      ]
     },
     "execution_count": 18,
     "metadata": {},
     "output_type": "execute_result"
    }
   ],
   "source": [
    "reverse_number(-125)"
   ]
  },
  {
   "cell_type": "code",
   "execution_count": 13,
   "id": "fb54ed61",
   "metadata": {},
   "outputs": [
    {
     "name": "stdout",
     "output_type": "stream",
     "text": [
      "hasil pop :  1\n",
      "hasil floor division pada x :  32\n",
      "reverse x value :  1\n",
      "hasil pop :  2\n",
      "hasil floor division pada x :  3\n",
      "reverse x value :  12\n",
      "hasil pop :  3\n",
      "hasil floor division pada x :  0\n",
      "reverse x value :  123\n"
     ]
    }
   ],
   "source": [
    "x = 321\n",
    "x = abs(x)\n",
    "reversed_x = 0\n",
    "while x != 0:\n",
    "    pop = x % 10\n",
    "    print('hasil pop : ', pop)  # Mengeluarkan digit terakhir dari x\n",
    "    x = x // 10\n",
    "    print('hasil floor division pada x : ', x)  # Mengurangi digit terakhir dari x\n",
    "    reversed_x = reversed_x * 10 + pop\n",
    "    print('reverse x value : ', reversed_x)  # Mengupdate nilai reversed_x"
   ]
  },
  {
   "cell_type": "markdown",
   "id": "51c140ff",
   "metadata": {},
   "source": [
    "Penjelasan:\n",
    "\n",
    "  -  x diubah menjadi nilai absolutnya (abs(x)) untuk memudahkan pembalikan digit tanpa memikirkan tanda.\n",
    "  -  Variabel reversed_x diinisialisasi dengan 0 untuk menyimpan hasil pembalikan digit.\n",
    "  -  Looping:\n",
    "      -  Loop ini akan terus berjalan selama x tidak sama dengan 0.\n",
    "      -  Dalam setiap iterasi:\n",
    "          -  Ambil digit terakhir dari x menggunakan x % 10 dan simpan dalam variabel pop.\n",
    "          -  Buang digit terakhir dari x dengan x // 10.\n",
    "          -  Tambahkan digit yang diambil (pop) ke reversed_x dengan cara menggeser digit yang sudah ada (mengalikan reversed_x dengan 10) dan menambahkan pop."
   ]
  },
  {
   "cell_type": "code",
   "execution_count": 17,
   "id": "d0b392ce",
   "metadata": {},
   "outputs": [],
   "source": [
    "if reversed_x > 2**31 - 1:\n",
    "    return 0\n",
    "# code ini jangan di-running -> pasti error, nanti dikeluarkan ketika digabungkan ke function"
   ]
  },
  {
   "cell_type": "markdown",
   "id": "21b2ad41",
   "metadata": {},
   "source": [
    "Penjelasan:\n",
    "\n",
    "  -  Setelah pembalikan digit selesai, fungsi memeriksa apakah nilai reversed_x lebih besar dari batas atas integer 32-bit (2^31 - 1 atau 2147483647).\n",
    "  -  Jika reversed_x melebihi batas ini, fungsi segera mengembalikan 0 karena hasil pembalikan tidak dapat diwakili dalam jangkauan integer 32-bit."
   ]
  },
  {
   "cell_type": "code",
   "execution_count": 19,
   "id": "ea331bb1",
   "metadata": {},
   "outputs": [],
   "source": [
    "return sign * reversed_x\n",
    "# code ini jangan di-running -> pasti error, nanti dikeluarkan ketika digabungkan ke function"
   ]
  },
  {
   "cell_type": "markdown",
   "id": "fe04a54f",
   "metadata": {},
   "source": [
    "Penjelasan:\n",
    "\n",
    "   - Terakhir, fungsi mengembalikan hasil akhir dengan mengalikan reversed_x dengan sign.\n",
    "   - Jika x awalnya negatif, hasil akhir juga akan negatif, dan jika x positif, hasil akhir juga akan positif."
   ]
  },
  {
   "cell_type": "code",
   "execution_count": 6,
   "id": "2de14acd",
   "metadata": {},
   "outputs": [],
   "source": [
    "def reverse_integer(x):\n",
    "    # Step 1: Ambil tanda dari x\n",
    "    sign = -1 if x < 0 else 1\n",
    "    \n",
    "    # Step 2: Balikkan digit dari x\n",
    "    x = abs(x)\n",
    "    reversed_x = 0\n",
    "    while x != 0:\n",
    "        pop = x % 10  # Ambil digit terakhir\n",
    "        x = x // 10   # Hapus digit terakhir\n",
    "        reversed_x = reversed_x * 10 + pop\n",
    "    \n",
    "    # Step 3: Periksa apakah terjadi overflow\n",
    "    if reversed_x > 2**31 - 1:\n",
    "        return 0\n",
    "    \n",
    "    # Step 4: Kembalikan nilai dengan tanda asli\n",
    "    return sign * reversed_x"
   ]
  },
  {
   "cell_type": "code",
   "execution_count": 8,
   "id": "c7a3c9f8",
   "metadata": {},
   "outputs": [
    {
     "data": {
      "text/plain": [
       "-51"
      ]
     },
     "execution_count": 8,
     "metadata": {},
     "output_type": "execute_result"
    }
   ],
   "source": [
    "x = -150\n",
    "reverse_integer(x)"
   ]
  },
  {
   "cell_type": "code",
   "execution_count": 11,
   "id": "4f8c62b8",
   "metadata": {},
   "outputs": [
    {
     "data": {
      "text/plain": [
       "13687"
      ]
     },
     "execution_count": 11,
     "metadata": {},
     "output_type": "execute_result"
    }
   ],
   "source": [
    "x = 78631\n",
    "reverse_integer(x)"
   ]
  },
  {
   "cell_type": "markdown",
   "id": "764d724f",
   "metadata": {},
   "source": [
    "### Code untuk kita testing di LeetCode"
   ]
  },
  {
   "cell_type": "code",
   "execution_count": 19,
   "id": "5585582c",
   "metadata": {},
   "outputs": [],
   "source": [
    "# code pada cell dibawah ini yg di submit ke LeetCode\n",
    "class Solution:\n",
    "    def reverse(self, x: int) -> int:\n",
    "        # Step 1: Ambil tanda dari x\n",
    "        sign = -1 if x < 0 else 1\n",
    "        \n",
    "        # Step 2: Balikkan digit dari x\n",
    "        x = abs(x)\n",
    "        reversed_x = 0\n",
    "        while x != 0:\n",
    "            pop = x % 10  # Ambil digit terakhir\n",
    "            x = x // 10   # Hapus digit terakhir\n",
    "            reversed_x = reversed_x * 10 + pop\n",
    "        \n",
    "        # Step 3: Periksa apakah terjadi overflow\n",
    "        if reversed_x > 2**31 - 1:\n",
    "            return 0\n",
    "        \n",
    "        # Step 4: Kembalikan nilai dengan tanda asli\n",
    "        return sign * reversed_x\n",
    "\n",
    "solution = Solution()"
   ]
  },
  {
   "cell_type": "code",
   "execution_count": 20,
   "id": "14c1112b",
   "metadata": {},
   "outputs": [
    {
     "name": "stdout",
     "output_type": "stream",
     "text": [
      "-321\n"
     ]
    }
   ],
   "source": [
    "result = solution.reverse(-123)\n",
    "print(result)  # Output: -321"
   ]
  },
  {
   "cell_type": "markdown",
   "id": "fdb3d642",
   "metadata": {},
   "source": [
    "## Problem 2 :\n",
    "https://leetcode.com/problems/group-anagrams/description/ \n",
    "\n",
    "#### Step jawaban :\n",
    "1. Pahami tentang Anagram : Anagram adalah kata atau frasa yang dibentuk dengan mengubah urutan huruf-huruf dari kata atau frasa lain, biasanya dengan menggunakan semua huruf asli yang tersedia dengan urutan yang diubah.\n",
    "2. Rencana solusi Untuk menyelesaikan ini kita butuh dictionary, buatkan susunan kata yang memiliki sifat anagram, kemudian kelompokkan-kan\n",
    "- 1. Create an empty dictionary dan list kata anagram\n",
    "- 2. Semua kata yg kita buat bersifat anagram, Kita perlu mengelompokkan ‘eat’, ‘ate’, and ‘tea’ bersama karena kata-kata tersebut anagram, bagaimana caranya ?\n",
    "- 3. Kita urutkan secara abjad, maka 3 kata itu akan menjadi 'aet' \n",
    "- 4. Di dictionary, key kita bisa setting sebagai 'aet' dan huruf lainnya kita bisa setting sebagai Value, karena dictionary itu memiliki elemen key dan value.\n",
    "- 5. Buat key baru, Jika ada kata baru atau satu huruf saja yang tidak ada pada key dictionary\n",
    "- 6. Lakukan looping supaya key kata barunya bertambah"
   ]
  },
  {
   "cell_type": "markdown",
   "id": "26df854b",
   "metadata": {},
   "source": [
    "### Pseudo code :\n",
    "    Mulai\n",
    "      Inisialisasi daftar kata: strs = ['eat', 'ate', 'tea', 'bat', 'tan', 'nat']\n",
    "      Inisialisasi dictionary kosong: dictionary = {}\n",
    "\n",
    "      Untuk setiap kata dalam strs:\n",
    "        Urutkan huruf dalam kata dan gabungkan menjadi string baru: sorted_word = ''.join(sorted(word))\n",
    "        Cetak: \"Word: {word}, Sorted Word: {sorted_word}\"\n",
    "\n",
    "        Jika sorted_word tidak ada dalam dictionary:\n",
    "          Buat entri baru dalam dictionary dengan sorted_word sebagai kunci dan daftar berisi kata sebagai nilai: dictionary[sorted_word] = [word]\n",
    "        Jika sorted_word sudah ada dalam dictionary:\n",
    "          Tambahkan kata ke dalam daftar nilai dari kunci sorted_word: dictionary[sorted_word].append(word)\n",
    "\n",
    "        Cetak: \"Now, the key {sorted_word} has values: {dictionary[sorted_word]}\"\n",
    "        Cetak: \"==========\"\n",
    "\n",
    "      Cetak: list(dictionary.values()) untuk menampilkan semua grup anagram\n",
    "    Selesai\n"
   ]
  },
  {
   "cell_type": "code",
   "execution_count": 4,
   "id": "86b5a129",
   "metadata": {},
   "outputs": [
    {
     "name": "stdout",
     "output_type": "stream",
     "text": [
      "Word: eat, Sorted Word: aet\n",
      "Now, the key aet has values: ['eat']\n",
      "==========\n",
      "Word: ate, Sorted Word: aet\n",
      "Now, the key aet has values: ['eat', 'ate']\n",
      "==========\n",
      "Word: tea, Sorted Word: aet\n",
      "Now, the key aet has values: ['eat', 'ate', 'tea']\n",
      "==========\n",
      "Word: bat, Sorted Word: abt\n",
      "Now, the key abt has values: ['bat']\n",
      "==========\n",
      "Word: tan, Sorted Word: ant\n",
      "Now, the key ant has values: ['tan']\n",
      "==========\n",
      "Word: nat, Sorted Word: ant\n",
      "Now, the key ant has values: ['tan', 'nat']\n",
      "==========\n",
      "[['eat', 'ate', 'tea'], ['bat'], ['tan', 'nat']]\n"
     ]
    }
   ],
   "source": [
    "# Jawaban terakhir\n",
    "strs = ['eat', 'ate', 'tea', 'bat', 'tan', 'nat']\n",
    "dictionary = {}\n",
    "\n",
    "for word in strs:\n",
    "    sorted_word = ''.join(sorted(word))\n",
    "    print(f\"Word: {word}, Sorted Word: {sorted_word}\")\n",
    "    if sorted_word not in dictionary:\n",
    "        dictionary[sorted_word] = [word]\n",
    "    else:\n",
    "        dictionary[sorted_word].append(word)\n",
    "    \n",
    "    print(f\"Now, the key {sorted_word} has values: {dictionary[sorted_word]}\")\n",
    "    print(\"==========\")\n",
    "\n",
    "# To print the final grouped anagrams\n",
    "print(list(dictionary.values()))"
   ]
  },
  {
   "cell_type": "markdown",
   "id": "199db160",
   "metadata": {},
   "source": [
    "### Bagaimana bisa ? kita coba breakdown satu-satu"
   ]
  },
  {
   "cell_type": "code",
   "execution_count": 29,
   "id": "b7b2519d",
   "metadata": {},
   "outputs": [],
   "source": [
    "# step 1\n",
    "strs = ['eat', 'ate', 'tea', 'bat', 'tan', 'nat']\n",
    "dictionary = {}"
   ]
  },
  {
   "cell_type": "code",
   "execution_count": 30,
   "id": "6fd2febf",
   "metadata": {},
   "outputs": [
    {
     "name": "stdout",
     "output_type": "stream",
     "text": [
      "['a', 'e', 't']\n",
      "aet\n"
     ]
    }
   ],
   "source": [
    "print(sorted('eat'))\n",
    "print(''.join(sorted('eat')))"
   ]
  },
  {
   "cell_type": "markdown",
   "id": "10f0a6e3",
   "metadata": {},
   "source": [
    "Inisialisasi:\n",
    "\n",
    "  -  Daftar kata strs berisi: ['eat', 'ate', 'tea', 'bat', 'tan', 'nat'].\n",
    "  -  Dictionary kosong dictionary diinisialisasi untuk menyimpan grup anagram."
   ]
  },
  {
   "cell_type": "code",
   "execution_count": 32,
   "id": "446dc327",
   "metadata": {
    "scrolled": true
   },
   "outputs": [
    {
     "name": "stdout",
     "output_type": "stream",
     "text": [
      "aet\n",
      "Word: eat, Sorted Word: aet\n",
      "aet\n",
      "Word: ate, Sorted Word: aet\n",
      "aet\n",
      "Word: tea, Sorted Word: aet\n",
      "abt\n",
      "Word: bat, Sorted Word: abt\n",
      "ant\n",
      "Word: tan, Sorted Word: ant\n",
      "ant\n",
      "Word: nat, Sorted Word: ant\n"
     ]
    }
   ],
   "source": [
    "# step 2 dan 3\n",
    "for word in strs:\n",
    "    sorted_word = ''.join(sorted(word))\n",
    "    print(sorted_word)\n",
    "    print(f\"Word: {word}, Sorted Word: {sorted_word}\")"
   ]
  },
  {
   "cell_type": "markdown",
   "id": "2b1db775",
   "metadata": {},
   "source": [
    "1. Iterasi Pertama (word = 'eat'):\n",
    "\n",
    "   - Kata 'eat' diurutkan hurufnya menjadi 'aet'.\n",
    "   - Karena 'aet' belum ada di dictionary, buat entri baru dengan key 'aet' dan nilai ['eat'].\n",
    "\n",
    "2. Iterasi Kedua (word = 'ate'):\n",
    "\n",
    "   - Kata 'ate' diurutkan hurufnya menjadi 'aet'.\n",
    "   - 'aet' sudah ada di dictionary, jadi tambahkan 'ate' ke dalam nilai key 'aet'.\n",
    "   \n",
    "3. Iterasi Ketiga (word = 'tea'):\n",
    "\n",
    "   - Kata 'tea' diurutkan hurufnya menjadi 'aet'.\n",
    "   - 'aet' sudah ada di dictionary, jadi tambahkan 'tea' ke dalam nilai key 'aet'.\n",
    "   \n",
    "4. Iterasi Keempat (word = 'bat'):\n",
    "\n",
    "   - Kata 'bat' diurutkan hurufnya menjadi 'abt'.\n",
    "   - 'abt' belum ada di dictionary, buat entri baru dengan key 'abt' dan nilai ['bat'].\n",
    "   \n",
    "5. Iterasi Kelima (word = 'tan'):\n",
    "\n",
    "   - Kata 'tan' diurutkan hurufnya menjadi 'ant'.\n",
    "   - 'ant' belum ada di dictionary, buat entri baru dengan key 'ant' dan nilai ['tan'].\n",
    "   \n",
    "6. Iterasi Keenam (word = 'nat'):\n",
    "\n",
    "   - Kata 'nat' diurutkan hurufnya menjadi 'ant'.\n",
    "   - 'ant' sudah ada di dictionary, jadi tambahkan 'nat' ke dalam nilai key 'ant'.\n",
    "   \n",
    "7. Cetak Grup Anagram:\n",
    "\n",
    "   - Setelah semua iterasi selesai, cetak semua grup anagram dari dictionary dengan menggunakan list(dictionary.values())."
   ]
  },
  {
   "cell_type": "code",
   "execution_count": 33,
   "id": "628674f5",
   "metadata": {},
   "outputs": [
    {
     "data": {
      "text/plain": [
       "'nat'"
      ]
     },
     "execution_count": 33,
     "metadata": {},
     "output_type": "execute_result"
    }
   ],
   "source": [
    "word"
   ]
  },
  {
   "cell_type": "code",
   "execution_count": 34,
   "id": "f44e5e0a",
   "metadata": {},
   "outputs": [
    {
     "data": {
      "text/plain": [
       "'ant'"
      ]
     },
     "execution_count": 34,
     "metadata": {},
     "output_type": "execute_result"
    }
   ],
   "source": [
    "sorted_word"
   ]
  },
  {
   "cell_type": "code",
   "execution_count": 15,
   "id": "aaaf2abe",
   "metadata": {},
   "outputs": [
    {
     "data": {
      "text/plain": [
       "{'ant': ['nat']}"
      ]
     },
     "execution_count": 15,
     "metadata": {},
     "output_type": "execute_result"
    }
   ],
   "source": [
    "# step 4\n",
    "dictionary[sorted_word] = [word] # ketika dictionary kosong, maka akan membuat key berisi sorted_word dan value berisi word\n",
    "dictionary"
   ]
  },
  {
   "cell_type": "code",
   "execution_count": 35,
   "id": "f1c872cd",
   "metadata": {},
   "outputs": [
    {
     "name": "stdout",
     "output_type": "stream",
     "text": [
      "Now, the key ant has values: ['nat']\n",
      "=====cek Values nya=====\n"
     ]
    },
    {
     "data": {
      "text/plain": [
       "dict_values([['nat']])"
      ]
     },
     "execution_count": 35,
     "metadata": {},
     "output_type": "execute_result"
    }
   ],
   "source": [
    "# step 5\n",
    "if sorted_word not in dictionary:\n",
    "    dictionary[sorted_word] = [word] # kenapa nat saja, karena pada word nilainya hanya nat saja (belum di looping)\n",
    "else:\n",
    "    dictionary[sorted_word].append(word)\n",
    "\n",
    "print(f\"Now, the key {sorted_word} has values: {dictionary[sorted_word]}\")\n",
    "print(\"=====cek Values nya=====\")\n",
    "dictionary.values()"
   ]
  },
  {
   "cell_type": "code",
   "execution_count": 36,
   "id": "a293ef80",
   "metadata": {},
   "outputs": [
    {
     "name": "stdout",
     "output_type": "stream",
     "text": [
      "[['eat', 'ate', 'tea'], ['bat'], ['tan', 'nat', 'tna']]\n"
     ]
    }
   ],
   "source": [
    "# step 6\n",
    "# Jawaban terakhir\n",
    "strs = ['eat', 'ate', 'tea', 'bat', 'tan', 'nat','tna']\n",
    "dictionary = {}\n",
    "\n",
    "for word in strs:\n",
    "    sorted_word = ''.join(sorted(word))\n",
    "#     print(f\"Word: {word}, Sorted Word: {sorted_word}\")\n",
    "    if sorted_word not in dictionary:\n",
    "        dictionary[sorted_word] = [word]\n",
    "    else:\n",
    "        dictionary[sorted_word].append(word)\n",
    "    \n",
    "#     print(f\"Now, the key {sorted_word} has values: {dictionary[sorted_word]}\")\n",
    "#     print(\"==========\")\n",
    "\n",
    "# To print the final grouped anagrams\n",
    "print(list(dictionary.values()))"
   ]
  },
  {
   "cell_type": "code",
   "execution_count": 37,
   "id": "3e16a4ae",
   "metadata": {},
   "outputs": [
    {
     "name": "stdout",
     "output_type": "stream",
     "text": [
      "Word: eat, Sorted Word: aet\n",
      "Now, the key aet has values: ['eat']\n",
      "==========\n",
      "Word: ate, Sorted Word: aet\n",
      "Now, the key aet has values: ['eat', 'ate']\n",
      "==========\n",
      "Word: tea, Sorted Word: aet\n",
      "Now, the key aet has values: ['eat', 'ate', 'tea']\n",
      "==========\n",
      "Word: bat, Sorted Word: abt\n",
      "Now, the key abt has values: ['bat']\n",
      "==========\n",
      "Word: tan, Sorted Word: ant\n",
      "Now, the key ant has values: ['tan']\n",
      "==========\n",
      "Word: nat, Sorted Word: ant\n",
      "Now, the key ant has values: ['tan', 'nat']\n",
      "==========\n"
     ]
    },
    {
     "data": {
      "text/plain": [
       "[['eat', 'ate', 'tea'], ['bat'], ['tan', 'nat']]"
      ]
     },
     "execution_count": 37,
     "metadata": {},
     "output_type": "execute_result"
    }
   ],
   "source": [
    "# Jika kita buat function begini\n",
    "def groupAnagrams(strs):\n",
    "    dictionary = {}\n",
    "    \n",
    "    for word in strs:\n",
    "        sorted_word = ''.join(sorted(word))\n",
    "        print(f\"Word: {word}, Sorted Word: {sorted_word}\")\n",
    "        if sorted_word not in dictionary:\n",
    "            dictionary[sorted_word] = [word]\n",
    "        else:\n",
    "            dictionary[sorted_word].append(word)\n",
    "\n",
    "        print(f\"Now, the key {sorted_word} has values: {dictionary[sorted_word]}\")\n",
    "        print(\"==========\")\n",
    "    \n",
    "    return list(dictionary.values())\n",
    "\n",
    "# Contoh penggunaan:\n",
    "strs = ['eat', 'ate', 'tea', 'bat', 'tan', 'nat']\n",
    "groupAnagrams(strs)"
   ]
  },
  {
   "cell_type": "markdown",
   "id": "d485dff5",
   "metadata": {},
   "source": [
    "### Code untuk kita testing di LeetCode"
   ]
  },
  {
   "cell_type": "code",
   "execution_count": 39,
   "id": "3988cdb2",
   "metadata": {},
   "outputs": [],
   "source": [
    "# code pada cell dibawah ini yg di submit ke LeetCode\n",
    "from typing import List\n",
    "\n",
    "class Solution:\n",
    "    def groupAnagrams(self, strs: List[str]) -> List[List[str]]:\n",
    "        dictionary = {}\n",
    "        \n",
    "        for word in strs:\n",
    "            # Step 1: Urutkan huruf dalam kata dan jadikan sebagai kunci\n",
    "            sorted_word = ''.join(sorted(word))\n",
    "            print(f\"Word: {word}, Sorted Word: {sorted_word}\")\n",
    "            \n",
    "            # Step 2: Masukkan kata ke dalam dictionary berdasarkan sorted_word\n",
    "            if sorted_word not in dictionary:\n",
    "                dictionary[sorted_word] = [word]\n",
    "            else:\n",
    "                dictionary[sorted_word].append(word)\n",
    "\n",
    "            print(f\"Now, the key {sorted_word} has values: {dictionary[sorted_word]}\")\n",
    "            print(\"==========\")\n",
    "        \n",
    "        # Step 3: Return the list of grouped anagrams\n",
    "        return list(dictionary.values())\n",
    "\n",
    "# Contoh penggunaan:\n",
    "solution = Solution()"
   ]
  },
  {
   "cell_type": "code",
   "execution_count": 40,
   "id": "b69955eb",
   "metadata": {},
   "outputs": [
    {
     "name": "stdout",
     "output_type": "stream",
     "text": [
      "Word: eat, Sorted Word: aet\n",
      "Now, the key aet has values: ['eat']\n",
      "==========\n",
      "Word: ate, Sorted Word: aet\n",
      "Now, the key aet has values: ['eat', 'ate']\n",
      "==========\n",
      "Word: tea, Sorted Word: aet\n",
      "Now, the key aet has values: ['eat', 'ate', 'tea']\n",
      "==========\n",
      "Word: bat, Sorted Word: abt\n",
      "Now, the key abt has values: ['bat']\n",
      "==========\n",
      "Word: tan, Sorted Word: ant\n",
      "Now, the key ant has values: ['tan']\n",
      "==========\n",
      "Word: nat, Sorted Word: ant\n",
      "Now, the key ant has values: ['tan', 'nat']\n",
      "==========\n",
      "[['eat', 'ate', 'tea'], ['bat'], ['tan', 'nat']]\n"
     ]
    }
   ],
   "source": [
    "strs = ['eat', 'ate', 'tea', 'bat', 'tan', 'nat']\n",
    "result = solution.groupAnagrams(strs)\n",
    "print(result)"
   ]
  },
  {
   "cell_type": "code",
   "execution_count": null,
   "id": "815cfe23",
   "metadata": {},
   "outputs": [],
   "source": []
  }
 ],
 "metadata": {
  "kernelspec": {
   "display_name": "Python 3 (ipykernel)",
   "language": "python",
   "name": "python3"
  },
  "language_info": {
   "codemirror_mode": {
    "name": "ipython",
    "version": 3
   },
   "file_extension": ".py",
   "mimetype": "text/x-python",
   "name": "python",
   "nbconvert_exporter": "python",
   "pygments_lexer": "ipython3",
   "version": "3.11.4"
  }
 },
 "nbformat": 4,
 "nbformat_minor": 5
}
